{
 "cells": [
  {
   "cell_type": "markdown",
   "metadata": {},
   "source": [
    "# Analyse des tirs au but au football - Projet Scientifique Collectif\n",
    "\n",
    "Ce projet, réalisé dans le cadre du Projet Scientifique Collectif (PSC) à l'École Polytechnique, propose une étude approfondie des tirs au but dans le football. Il combine une approche statistique descriptive et des analyses plus poussées pour mieux comprendre les facteurs influençant la réussite ou l’échec d’un tir au but, du point de vue du tireur et du gardien.\n",
    "\n",
    "## Auteurs\n",
    "\n",
    "- Nicolas Bracco  \n",
    "- Théo Clary  \n",
    "- Louis Lairy  \n",
    "- Alexandre Fichter  \n",
    "- Benjamin Selles\n",
    "\n",
    "## Description\n",
    "\n",
    "Le projet s’appuie sur des données issues de plusieurs compétitions internationales (Coupe du Monde, Euro, Ligue des Champions, Ligue Europa, Copa America, Coupe de France, Coupe du monde des clubs, Coup d'Afrique des Nations, Copa Libertadores et Gold Cup) pour construire une base d’analyse riche.  \n",
    "Le **Jupyter Notebook** fourni suit la structure du rapport final, avec les titres de sections correspondant directement aux parties du document écrit.  \n",
    "Les résultats et interprétations sont automatiquement exportés dans un fichier `.txt` à l’exécution du notebook. Les graphiques donnés dans le rapport sont automatiquement sauvegarder en image `.png` lors de l'éxécution des cellules.\n",
    "\n",
    "## Contenu du notebook\n",
    "\n",
    "Le projet est structuré en plusieurs grandes parties :\n",
    "- **Statistiques descriptives** : répartition des zones de tir, analyse du pied du tireur, comportement du gardien, etc.\n",
    "- **Analyses croisées** : influence des préférences du tireur et du gardien, étude comparant les grandes compétitions et les autres compétitions, etc.\n",
    "\n",
    "## Technologies utilisées\n",
    "\n",
    "- Python 3\n",
    "- Jupyter Notebook\n",
    "- Bibliothèques : `pandas`, `numpy`, `matplotlib`, `seaborn`, `scipy`, etc.\n",
    "\n",
    "## Exécution du projet\n",
    "\n",
    "1. Cloner ce dépôt ou télécharger les fichiers.\n",
    "2. Ouvrir `psc_final.ipynb` dans un environnement Jupyter.\n",
    "3. Exécuter toutes les cellules : le fichier `output.txt` sera généré automatiquement avec l’ensemble des sorties du notebook.\n",
    "\n",
    "```bash\n",
    "jupyter notebook psc_final.ipynb\n"
   ]
  },
  {
   "cell_type": "markdown",
   "metadata": {},
   "source": []
  }
 ],
 "metadata": {
  "language_info": {
   "name": "python"
  }
 },
 "nbformat": 4,
 "nbformat_minor": 2
}
